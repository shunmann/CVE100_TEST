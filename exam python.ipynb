{
 "cells": [
  {
   "cell_type": "code",
   "execution_count": 1,
   "id": "d227564f",
   "metadata": {},
   "outputs": [
    {
     "name": "stdout",
     "output_type": "stream",
     "text": [
      "Alex\n",
      "name : Alex\n",
      "age : 20\n",
      "grade : A\n",
      "major : Computer Engineering\n"
     ]
    }
   ],
   "source": [
    "# 1.1 Create dictionary\n",
    "student = {\"name\": \"Alex\", \"age\": 20, \"grade\": \"B\"}\n",
    "\n",
    "# 1.2 Display the value of \"name\"\n",
    "print(student[\"name\"])\n",
    "\n",
    "# 1.3 Change the \"grade\" value to \"A\"\n",
    "student[\"grade\"] = \"A\"\n",
    "\n",
    "# 1.4 Add a new key \"major\"\n",
    "student[\"major\"] = \"Computer Engineering\"\n",
    "\n",
    "# 1.5 Print all key-value pairs\n",
    "for key, value in student.items():\n",
    "    print(key, \":\", value)"
   ]
  },
  {
   "cell_type": "code",
   "execution_count": 4,
   "id": "ac7ace2e",
   "metadata": {},
   "outputs": [
    {
     "name": "stdout",
     "output_type": "stream",
     "text": [
      "Book not found\n"
     ]
    }
   ],
   "source": [
    "# 2.1 Create dictionary of books\n",
    "books = {\"Math\": 3, \"Science\": 5, \"History\": 2}\n",
    "\n",
    "# 2.2 Ask user for a book\n",
    "book_name = input(\"Enter book title to borrow: \")\n",
    "\n",
    "# 2.3, 2.4, 2.5 Conditions\n",
    "if book_name in books:\n",
    "    if books[book_name] > 0:\n",
    "        books[book_name] -= 1\n",
    "        print(\"You borrowed the book\")\n",
    "    else:\n",
    "        print(\"Book out of stock\")\n",
    "else:\n",
    "    print(\"Book not found\")"
   ]
  },
  {
   "cell_type": "code",
   "execution_count": 5,
   "id": "160a0136",
   "metadata": {},
   "outputs": [
    {
     "name": "stdout",
     "output_type": "stream",
     "text": [
      "Tax = 0\n"
     ]
    }
   ],
   "source": [
    "# 3.1 Define function\n",
    "def income_tax(income):\n",
    "    # 3.2 Case 1: income ≤ 100,000\n",
    "    if income <= 100000:\n",
    "        return 0\n",
    "    # 3.3 Case 2: 100,000 < income ≤ 300,000\n",
    "    elif income <= 300000:\n",
    "        return (income - 100000) * 0.1\n",
    "    # 3.4 Case 3: income > 300,000\n",
    "    else:\n",
    "        return (200000 * 0.1) + (income - 300000) * 0.2\n",
    "\n",
    "# 3.5 Ask user for input\n",
    "user_income = float(input(\"Enter your annual income: \"))\n",
    "print(\"Tax =\", income_tax(user_income))"
   ]
  },
  {
   "cell_type": "code",
   "execution_count": 6,
   "id": "7b1898a2",
   "metadata": {},
   "outputs": [
    {
     "name": "stdout",
     "output_type": "stream",
     "text": [
      "Sum of even numbers = 2\n"
     ]
    }
   ],
   "source": [
    "# 4.1 Define function\n",
    "def sum_even_numbers(n):\n",
    "    total = 0   # 4.2 create total\n",
    "    for i in range(1, n+1):  # 4.3 loop 1 to n\n",
    "        if i % 2 == 0:\n",
    "            total += i\n",
    "    return total  # 4.4 return sum\n",
    "\n",
    "# 4.5 Main program\n",
    "num = int(input(\"Enter a number: \"))\n",
    "print(\"Sum of even numbers =\", sum_even_numbers(num))"
   ]
  },
  {
   "cell_type": "code",
   "execution_count": 1,
   "id": "bc60feaf",
   "metadata": {},
   "outputs": [
    {
     "name": "stdout",
     "output_type": "stream",
     "text": [
      "Car rented. Total cost = 5000\n",
      "Model: Toyota Vios, Rent per day: 1000, Available: False\n",
      "Car returned\n",
      "Model: Toyota Vios, Rent per day: 1000, Available: True\n"
     ]
    }
   ],
   "source": [
    "# 5.1 Define class Car\n",
    "class Car:\n",
    "    # 5.2 Initializer\n",
    "    def __init__(self, model, rent_per_day, available=True):\n",
    "        self.model = model\n",
    "        self.rent_per_day = rent_per_day\n",
    "        self.available = available\n",
    "\n",
    "    # 5.3 rent method\n",
    "    def rent(self, days):\n",
    "        if self.available:\n",
    "            self.available = False\n",
    "            total_cost = self.rent_per_day * days\n",
    "            print(\"Car rented. Total cost =\", total_cost)\n",
    "        else:\n",
    "            print(\"Car not available\")\n",
    "\n",
    "    # 5.4 return_car method\n",
    "    def return_car(self):\n",
    "        self.available = True\n",
    "        print(\"Car returned\")\n",
    "\n",
    "    # 5.5 display method\n",
    "    def display(self):\n",
    "        print(f\"Model: {self.model}, Rent per day: {self.rent_per_day}, Available: {self.available}\")\n",
    "\n",
    "# 5.6 Main program\n",
    "car1 = Car(\"Toyota Vios\", 1000)  # create object\n",
    "car1.rent(5)                    # rent for 5 days\n",
    "car1.display()                  # display info\n",
    "car1.return_car()               # return car\n",
    "car1.display()                  # display info again"
   ]
  }
 ],
 "metadata": {
  "kernelspec": {
   "display_name": "Python 3",
   "language": "python",
   "name": "python3"
  },
  "language_info": {
   "codemirror_mode": {
    "name": "ipython",
    "version": 3
   },
   "file_extension": ".py",
   "mimetype": "text/x-python",
   "name": "python",
   "nbconvert_exporter": "python",
   "pygments_lexer": "ipython3",
   "version": "3.11.9"
  }
 },
 "nbformat": 4,
 "nbformat_minor": 5
}
